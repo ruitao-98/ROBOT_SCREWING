{
 "cells": [
  {
   "cell_type": "code",
   "execution_count": 6,
   "id": "883c5906-df7e-416b-af7e-1636f4c8e239",
   "metadata": {},
   "outputs": [
    {
     "ename": "SyntaxError",
     "evalue": "invalid syntax (1500522699.py, line 3)",
     "output_type": "error",
     "traceback": [
      "\u001b[0;36m  Cell \u001b[0;32mIn[6], line 3\u001b[0;36m\u001b[0m\n\u001b[0;31m    sys.path.append(os.path.abspath(home/yanji/robot_screwing/src/mj_sim/config/))\u001b[0m\n\u001b[0m                                                                                ^\u001b[0m\n\u001b[0;31mSyntaxError\u001b[0m\u001b[0;31m:\u001b[0m invalid syntax\n"
     ]
    }
   ],
   "source": [
    "import os\n",
    "import sys\n",
    "sys.path.append(os.path.abspath(“/home/yanji/robot_screwing/src/mj_sim/config/“))\n",
    "import subprocess\n",
    "from utils import distance_maximizing_points, get_model_dir_and_file\n",
    "from config.configuration import ModelFitConfig as Conf\n",
    "from gp_common import GPDataset, restore_gp_regressors, read_dataset\n",
    "import argparse\n",
    "import ast\n",
    "\n",
    "parser = argparse.ArgumentParser()\n",
    "\n",
    "\n",
    "parser.add_argument('--x', nargs='+', type=int, default=[7],\n",
    "                    help='Regression X variables. Must be a list of integers between 0 and 12. Velocities xyz '\n",
    "                            'correspond to indices 7, 8, 9.')\n",
    "\n",
    "parser.add_argument(\"--y\", type=int, default=7,\n",
    "                    help=\"Regression Y variable. Must be an integer between 0 and 12. Velocities xyz correspond to\"\n",
    "                            \"indices 7, 8, 9.\")\n",
    "\n",
    "input_arguments = parser.parse_args()\n",
    "\n",
    "# Use vx, vy, vz as input features\n",
    "x_feats = input_arguments.x #这里只包括一个维度\n",
    "u_feats = []\n",
    "\n",
    "# Regression dimension\n",
    "\n",
    "\n",
    "\n",
    "git_version = ''\n",
    "try:\n",
    "    git_version = subprocess.check_output(['git', 'describe', '--always']).strip().decode(\"utf-8\")\n",
    "except subprocess.CalledProcessError as e:\n",
    "    print(e.returncode, e.output)\n",
    "print(\"The model will be saved using hash: %s\" % git_version)\n",
    "\n",
    "model_name = \"simple_sim_gp\"\n",
    "quad_sim_options = Conf.ds_metadata\n",
    "gp_name_dict = {\"git\": git_version, \"model_name\": model_name, \"params\": quad_sim_options}\n",
    "print(gp_name_dict)\n",
    "# Conf.ds_metadata\n",
    "save_file_path, save_file_name = get_model_dir_and_file(gp_name_dict)\n",
    "print(save_file_name)\n",
    "print(save_file_path)\n",
    "\n",
    "dataset_name = Conf.ds_name\n",
    "x_features = [2] #这里只包括一个维度\n",
    "u_features = []\n",
    "reg_y_dim = input_arguments.y #[7]\n",
    "\n",
    "histogram_pruning_bins = Conf.histogram_bins\n",
    "histogram_pruning_threshold = Conf.histogram_threshold\n",
    "x_value_cap = Conf.velocity_cap  #后处理参数，待定\n",
    "\n",
    "if isinstance(dataset_name, str):\n",
    "    df_train = read_dataset(dataset_name, True, quad_sim_options) # pandas 类型的表格数据\n",
    "   \n",
    "    # value = df_train.loc[1, 'state_in_vel']\n",
    "    # if isinstance(value, str):\n",
    "    #     value = ast.literal_eval(value)  # 安全地将字符串解析为列表\n",
    "    #     print(\"----\")\n",
    "    # print(df_train.head())\n",
    "    # print(df_train.columns)  # 查看列名\n",
    "    # print(df_train.loc[0, 'state_in_pose'])  # 检查预期值\n",
    "\n",
    "    gp_dataset = GPDataset(df_train, x_features, u_features, reg_y_dim,\n",
    "                            cap=x_value_cap, n_bins=histogram_pruning_bins, thresh=histogram_pruning_threshold, visualize_data=False) #获取数据集的对象\n",
    "\n",
    "n_clusters = Conf.clusters\n",
    "load_clusters = Conf.load_clusters\n",
    "visualize_data = Conf.visualize_data\n",
    "gp_dataset.cluster(n_clusters, load_clusters=load_clusters, save_dir=save_file_path, visualize_data=visualize_data) #数据聚类"
   ]
  },
  {
   "cell_type": "code",
   "execution_count": null,
   "id": "b930ed40-38b6-487e-a28a-0b617a52f897",
   "metadata": {},
   "outputs": [],
   "source": []
  }
 ],
 "metadata": {
  "kernelspec": {
   "display_name": "Python 3 (ipykernel)",
   "language": "python",
   "name": "python3"
  },
  "language_info": {
   "codemirror_mode": {
    "name": "ipython",
    "version": 3
   },
   "file_extension": ".py",
   "mimetype": "text/x-python",
   "name": "python",
   "nbconvert_exporter": "python",
   "pygments_lexer": "ipython3",
   "version": "3.8.20"
  }
 },
 "nbformat": 4,
 "nbformat_minor": 5
}
